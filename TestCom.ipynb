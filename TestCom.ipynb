{
 "cells": [
  {
   "cell_type": "code",
   "execution_count": 1,
   "metadata": {},
   "outputs": [],
   "source": [
    "import os\n",
    "import PixetAPI.pypixet as pypixet\n",
    "import PixetAPI.pypxproc as pypxproc\n",
    "import matplotlib.pyplot as plt"
   ]
  },
  {
   "cell_type": "code",
   "execution_count": 4,
   "metadata": {},
   "outputs": [
    {
     "name": "stdout",
     "output_type": "stream",
     "text": [
      "pixet core init...\n"
     ]
    }
   ],
   "source": [
    "print(\"pixet core init...\")\n",
    "pypixet.start()\n",
    "pixet=pypixet.pixet\n",
    "devices = pixet.devices()\n",
    "dev = devices[0]"
   ]
  },
  {
   "cell_type": "code",
   "execution_count": 5,
   "metadata": {},
   "outputs": [
    {
     "name": "stdout",
     "output_type": "stream",
     "text": [
      "dev.doSimpleAcquisition (3 frames @ 1 sec) - start\n",
      "dev.doSimpleAcquisition - end: 0 (0 is OK)\n"
     ]
    },
    {
     "data": {
      "text/plain": [
       "0"
      ]
     },
     "execution_count": 5,
     "metadata": {},
     "output_type": "execute_result"
    }
   ],
   "source": [
    "print(\"dev.doSimpleAcquisition (3 frames @ 1 sec) - start\")\n",
    "rc = dev.doSimpleAcquisition(3, 1, pixet.PX_FTYPE_AUTODETECT, \"example.png\")\n",
    "# rc = dev.doSimpleAcquisition(3, 1, pixet.PX_FTYPE_NONE, \"\") \n",
    "frame = dev.lastAcqFrameRefInc()\n",
    "print(\"dev.doSimpleAcquisition - end:\", rc, \"(0 is OK)\")\n",
    "\n",
    "pixet.exitPixet()\n",
    "pypixet.exit()"
   ]
  },
  {
   "cell_type": "code",
   "execution_count": 13,
   "metadata": {},
   "outputs": [
    {
     "name": "stdout",
     "output_type": "stream",
     "text": [
      "256\n",
      "256\n",
      "[0 0 0 ... 0 0 0]\n",
      "[[0 0 0 ... 0 0 0]\n",
      " [0 0 0 ... 0 0 0]\n",
      " [0 0 0 ... 0 0 0]\n",
      " ...\n",
      " [0 0 0 ... 0 0 0]\n",
      " [0 0 0 ... 0 0 0]\n",
      " [0 0 0 ... 0 0 0]]\n"
     ]
    },
    {
     "data": {
      "text/plain": [
       "<matplotlib.image.AxesImage at 0x1a3e2e2ca48>"
      ]
     },
     "execution_count": 13,
     "metadata": {},
     "output_type": "execute_result"
    },
    {
     "data": {
      "image/png": "[encoded data removed]",
      "text/plain": [
       "<Figure size 640x480 with 1 Axes>"
      ]
     },
     "metadata": {},
     "output_type": "display_data"
    }
   ],
   "source": [
    "import matplotlib.pyplot as plt\n",
    "import numpy as np\n",
    "toplot = np.array(frame.data())\n",
    "print(frame.width())\n",
    "print(frame.height())\n",
    "print(toplot)\n",
    "final = np.reshape(toplot,(frame.width(), frame.height()))\n",
    "print(final)\n",
    "plt.imshow(final)"
   ]
  },
  {
   "cell_type": "code",
   "execution_count": null,
   "metadata": {},
   "outputs": [],
   "source": []
  }
 ],
 "metadata": {
  "kernelspec": {
   "display_name": ".venv",
   "language": "python",
   "name": "python3"
  },
  "language_info": {
   "codemirror_mode": {
    "name": "ipython",
    "version": 3
   },
   "file_extension": ".py",
   "mimetype": "text/x-python",
   "name": "python",
   "nbconvert_exporter": "python",
   "pygments_lexer": "ipython3",
   "version": "3.7.9"
  }
 },
 "nbformat": 4,
 "nbformat_minor": 2
}
